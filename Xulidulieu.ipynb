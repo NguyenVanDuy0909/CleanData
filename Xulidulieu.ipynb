{
 "cells": [
  {
   "cell_type": "code",
   "execution_count": 8,
   "metadata": {},
   "outputs": [
    {
     "name": "stdout",
     "output_type": "stream",
     "text": [
      "Done\n"
     ]
    }
   ],
   "source": [
    "import csv\n",
    "data = []\n",
    "f = open('netflixData.csv', 'r',encoding=\"utf-8\")\n",
    "for row in csv.reader(f, delimiter=','):\n",
    "    data.append(row)\n",
    "\n",
    "header = data[0]\n",
    "header.insert(6, \"Number of actors\")\n",
    "data = data[1:]\n",
    "\n",
    "def NumberOfActors(row):\n",
    "    x = row[5]\n",
    "    if x == '' : \n",
    "        x = '0'\n",
    "        row.insert(6,x)\n",
    "    \n",
    "    else :\n",
    "        x = x.split(\",\")\n",
    "        x = len(x)\n",
    "        row.insert(6,x)\n",
    "    return row\n",
    "data = list(map(NumberOfActors,data))\n",
    "\n",
    "\n",
    "def Director(row):\n",
    "    x = row[3]\n",
    "    if x == '': x = 'Unknown'\n",
    "    row[3] = x\n",
    "    return row\n",
    "data = list(map(Director,data))\n",
    "\n",
    "def Rating(row):\n",
    "    x= row[9]\n",
    "    if x == 'TV-MA' and 'R' : x = 18\n",
    "    elif x == 'PG-13' : x = 13\n",
    "    elif x == 'TV-14': x = 14\n",
    "    elif x == 'TV-G'and 'TV-Y' : x = 6\n",
    "    elif x == 'TV-PG' : x = 13\n",
    "    else : x = 17\n",
    "    row[9] = x\n",
    "    return row\n",
    "data = list(map(Rating,data))\n",
    "\n",
    "def Score(row):\n",
    "    x = row[11]\n",
    "    x = x[:-3]\n",
    "    row[11] = x\n",
    "    \n",
    "    return row\n",
    "data = list(map(Score,data))\n",
    "\n",
    "\n",
    "with open('dataProcessDone3.csv', 'w', newline='', encoding='utf-8') as f:\n",
    "    w = csv.writer(f)\n",
    "    w.writerow(header)\n",
    "    for row in data:\n",
    "        w.writerow(row)\n",
    "print('Done')\n"
   ]
  }
 ],
 "metadata": {
  "interpreter": {
   "hash": "e6e71f8be337f4688be30bf14e6c368507781ae0eed9794e9b3eb23714d652c0"
  },
  "kernelspec": {
   "display_name": "Python 3.10.4 64-bit (windows store)",
   "language": "python",
   "name": "python3"
  },
  "language_info": {
   "codemirror_mode": {
    "name": "ipython",
    "version": 3
   },
   "file_extension": ".py",
   "mimetype": "text/x-python",
   "name": "python",
   "nbconvert_exporter": "python",
   "pygments_lexer": "ipython3",
   "version": "3.10.4"
  },
  "orig_nbformat": 4
 },
 "nbformat": 4,
 "nbformat_minor": 2
}
