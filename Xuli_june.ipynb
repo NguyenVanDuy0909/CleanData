{
 "cells": [
  {
   "cell_type": "code",
   "execution_count": 2,
   "metadata": {},
   "outputs": [
    {
     "name": "stdout",
     "output_type": "stream",
     "text": [
      "Done\n"
     ]
    }
   ],
   "source": [
    "import csv\n",
    "data = []\n",
    "f = open('june_netflix.csv', 'r',encoding=\"utf-8\")\n",
    "for row in csv.reader(f, delimiter=','):\n",
    "    del row[0]\n",
    "    del row[10]\n",
    "    del row[10]\n",
    "    del row[13]\n",
    "    del row[14]\n",
    "    data.append(row)\n",
    "header = data[0]\n",
    "header.insert(13, \"Total of geners\")\n",
    "header.insert(15, \"Total of Actors\")\n",
    "data = data[1:]\n",
    "\n",
    "def type_move(row):\n",
    "    x = row[7]\n",
    "    if x == 'movie': row[5] = 1\n",
    "    row[7] = x\n",
    "    return row\n",
    "data = list(map(type_move,data))\n",
    "\n",
    "def Geners(row):\n",
    "    x = row[12]\n",
    "    x = x.split(\",\")\n",
    "    x = len(x)\n",
    "    row.insert(13,x)\n",
    "    return row\n",
    "data = list(map(Geners,data))\n",
    "\n",
    "\n",
    "def actor(row):\n",
    "    x = row[14]\n",
    "    x = x.replace(\"'\", \"\")\n",
    "    x =  x = x.replace(\"[\", \"\")\n",
    "    x =   x.replace(\"]\", \"\")\n",
    "    row[14] = x\n",
    "    return row\n",
    "data = list(map(actor,data))\n",
    "\n",
    "def Total_Actor(row):\n",
    "    x = row[14]\n",
    "    x = x.split(\",\")\n",
    "    x = len(x)\n",
    "    row.insert(15,x)\n",
    "    return row\n",
    "data = list(map(Total_Actor,data))\n",
    "\n",
    "\n",
    "\n",
    "with open('june_Done1.csv', 'w', newline='', encoding='utf-8') as f:\n",
    "    w = csv.writer(f)\n",
    "    w.writerow(header)\n",
    "    for row in data:\n",
    "        w.writerow(row)\n",
    "print('Done')\n"
   ]
  }
 ],
 "metadata": {
  "interpreter": {
   "hash": "e6e71f8be337f4688be30bf14e6c368507781ae0eed9794e9b3eb23714d652c0"
  },
  "kernelspec": {
   "display_name": "Python 3.10.4 64-bit (windows store)",
   "language": "python",
   "name": "python3"
  },
  "language_info": {
   "codemirror_mode": {
    "name": "ipython",
    "version": 3
   },
   "file_extension": ".py",
   "mimetype": "text/x-python",
   "name": "python",
   "nbconvert_exporter": "python",
   "pygments_lexer": "ipython3",
   "version": "3.10.4"
  },
  "orig_nbformat": 4
 },
 "nbformat": 4,
 "nbformat_minor": 2
}
